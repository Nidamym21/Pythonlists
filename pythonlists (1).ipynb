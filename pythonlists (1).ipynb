{
 "cells": [
  {
   "cell_type": "markdown",
   "id": "74c4c055-bffc-47d1-9b90-e38ca5ec101d",
   "metadata": {},
   "source": [
    "# Python Lists:\n",
    "\n",
    "- A Python list is an ordered collection of items, which can store different data types such as integers, strings, floats,or even other lists.\n",
    "\n",
    "- Lists are mutable, meaning you can change their contents (add, remove, or modify items) after they are created.\n",
    "\n",
    "### - Here are simpler examples of Python lists with different data types "
   ]
  },
  {
   "cell_type": "code",
   "execution_count": 3,
   "id": "a8451d7f-2dc0-45d8-83c4-a74764a2c2f9",
   "metadata": {},
   "outputs": [],
   "source": [
    "# 1. List of integers\n",
    "int_list = [1, 2, 3]\n",
    "\n",
    "# 2. List of floats\n",
    "float_list = [1.1, 2.2, 3.3]\n",
    "\n",
    "# 3. List of strings\n",
    "string_list = [\"cat\", \"dog\", \"bird\"]\n",
    "\n",
    "# 4. List of booleans\n",
    "bool_list = [True, False, True]\n",
    "\n",
    "# 5. Mixed types (integer, string, float)\n",
    "mixed_list = [5, \"apple\", 3.5]\n",
    "\n",
    "# 6. List of lists\n",
    "nested_list = [[1, 2], [3, 4]]\n",
    "\n",
    "# 7. List of tuples\n",
    "tuple_list = [(1, 2), (3, 4)]\n",
    "\n",
    "# 8. List of dictionaries\n",
    "dict_list = [{\"a\": 1}, {\"b\": 2}]\n"
   ]
  },
  {
   "cell_type": "markdown",
   "id": "c415558a-f079-4b5a-b8d3-4069b52deb39",
   "metadata": {},
   "source": [
    "# Characterstics of list\n",
    "\n",
    "- Ordered: Lists maintain the order of elements as they are added.\n",
    "Example: my_list = [1, 2, 3] will always keep the elements in this order.\n",
    "\n",
    "- Mutable: Lists can be changed after creation (you can add, remove, or modify elements).\n",
    "Example: my_list[0] = 10 changes the first element to 10.\n",
    "\n",
    "- Indexed: Each element in a list has an index, starting from 0.\n",
    "Example: my_list[1] gives the second element in the list.\n",
    "\n",
    "- Heterogeneous: Lists can store different data types together.\n",
    "Example: my_list = [1, \"apple\", 3.5] has an integer, string, and float.\n",
    "\n",
    "- Dynamic size: Lists can grow or shrink in size as elements are added or removed.\n",
    "Example: my_list.append(4) adds a new element to the list\n"
   ]
  },
  {
   "cell_type": "markdown",
   "id": "ad966dd8-1950-4ad4-9efc-035f40459f98",
   "metadata": {},
   "source": [
    "# List elements\n",
    "\n",
    "List elements are the individual items or values that are stored within a list in Python. A list is a collection of these elements, and each element can be of any data type, such as integers, strings, floats, or even other lists.\n"
   ]
  },
  {
   "cell_type": "markdown",
   "id": "5e77762a-504f-4956-97af-957b6a7f3cad",
   "metadata": {},
   "source": [
    "# Access List Elements\n",
    "\n",
    "In Python, you can access elements of a list using indexing, slicing, and negative indexing. Here’s how you can do it:"
   ]
  },
  {
   "cell_type": "code",
   "execution_count": null,
   "id": "7d7df773-3034-45d5-9800-68c7ced29c33",
   "metadata": {},
   "outputs": [],
   "source": []
  },
  {
   "cell_type": "markdown",
   "id": "04375d96-eb1f-4529-9d72-0f3a82435e4f",
   "metadata": {},
   "source": [
    "# Indexing\n",
    "You access a specific element in a list by its index (position).\n",
    "\n",
    "Index starts at 0: The first item is at index 0, the second at index 1, and so on.\n",
    "\n",
    "## Positive Index\n",
    "- Positive indexing starts from the beginning of the list, with the first element at index 0, the second element at index 1, and so on.\n",
    "- Positive indexing counts from the start (0, 1, 2...)\r\n",
    "\n"
   ]
  },
  {
   "cell_type": "code",
   "execution_count": 5,
   "id": "7c9f495b-3238-41c5-b553-b82122dbd69b",
   "metadata": {},
   "outputs": [
    {
     "name": "stdout",
     "output_type": "stream",
     "text": [
      "50\n",
      "40\n"
     ]
    }
   ],
   "source": [
    "my_list = [10, 20, 30, 40, 50]\n",
    "print(my_list[-1])  # Output: 50 (last element)\n",
    "print(my_list[-2])  # Output: 40 (second last element)\n"
   ]
  },
  {
   "cell_type": "markdown",
   "id": "4217deab-8ea6-4c9a-9108-9e2e056f7b54",
   "metadata": {},
   "source": [
    "## Negative Index\n",
    "- Negative indexing starts from the end of the list, with the last element at index -1, the second last element at index -2, and so on.\n",
    "- Negative indexing counts from the end (-1, -2, -3...)."
   ]
  },
  {
   "cell_type": "code",
   "execution_count": 8,
   "id": "280d7c32-cd2f-454d-977a-c019ce022208",
   "metadata": {},
   "outputs": [
    {
     "name": "stdout",
     "output_type": "stream",
     "text": [
      "500\n",
      "400\n"
     ]
    }
   ],
   "source": [
    "my_list = [100, 200, 300, 400, 500]\n",
    "print(my_list[-1])  # Output: 500 (last element)\n",
    "print(my_list[-2])  # Output: 400 (second last element)\n"
   ]
  },
  {
   "cell_type": "markdown",
   "id": "48e6842a-8a88-4770-940b-f23efd84d070",
   "metadata": {},
   "source": [
    "### Examples of indexing"
   ]
  },
  {
   "cell_type": "code",
   "execution_count": 10,
   "id": "c461d9b0-adf6-4ea6-8162-7ba51b240cc3",
   "metadata": {},
   "outputs": [
    {
     "name": "stdout",
     "output_type": "stream",
     "text": [
      "apple\n",
      "banana\n",
      "cherry\n",
      "tomato\n",
      "pumkin\n",
      "blueberry\n",
      "dates\n",
      "cherry\n",
      "banana\n",
      "orange\n"
     ]
    }
   ],
   "source": [
    "\n",
    "my_list = [\"apple\", \"banana\", \"cherry\", \"tomato\", \"pumkin\"]\n",
    "\n",
    "print(my_list[0])  \n",
    "print(my_list[1])  \n",
    "print(my_list[2])  \n",
    "print(my_list[3])  \n",
    "print(my_list[4])  \n",
    "\n",
    "\n",
    "my_list = [\"orange\", \"banana\", \"cherry\", \"dates\", \"blueberry\"]\n",
    "\n",
    "print(my_list[-1])  # Last element\n",
    "print(my_list[-2])  # Second last element\n",
    "print(my_list[-3])  # Third last element\n",
    "print(my_list[-4])  # Fourth last element\n",
    "print(my_list[-5])  # Fifth last element\n",
    "\n"
   ]
  },
  {
   "cell_type": "code",
   "execution_count": 11,
   "id": "fab17eda-26cd-46a5-8d14-48be87370c41",
   "metadata": {},
   "outputs": [
    {
     "name": "stdout",
     "output_type": "stream",
     "text": [
      "1\n",
      "Bird\n",
      "Cherry\n",
      "4.75\n",
      "True\n"
     ]
    }
   ],
   "source": [
    "list3 = [1, 2, 3, 4, 5]\n",
    "print(list3[0])  \n",
    "\n",
    "list5 = ['Cat', 'Dog', 'Fish', 'Bird', 'Hamster']\n",
    "print(list5[3])  \n",
    "\n",
    "list9 = ['Apple', 'Banana', 'Cherry', 'Date', 'Elderberry']\n",
    "print(list9[2])  \n",
    "\n",
    "list2 = [1.1, 'World', 4.75, [1, 2, 3]]\n",
    "print(list2[2])  # Output: 4.75\n",
    "\n",
    "list1 = [5 + 6j, 2.3, 'Hello', True]\n",
    "print(list1[-1])  # Output: True\n",
    "\n"
   ]
  },
  {
   "cell_type": "markdown",
   "id": "c97a470d-26c0-46bf-b888-29863722b9ed",
   "metadata": {},
   "source": [
    "# Slicing\n",
    "\n",
    "Slicing in Python is a technique used to access a subset of elements from a list.\n",
    "\n",
    "Slicing is a way to get a part of a list (or string) in Python. It’s like cutting a section out of the list and creating a new list with just that part.\n",
    "\n",
    "How Slicing Works:For instance,you have a list of items\n",
    "\n",
    "- my_list = [10, 20, 30, 40, 50]\n",
    "\n",
    "To slice this list, you use the format:\n",
    "- my_list [start:end]\r\n",
    "\n",
    "\n",
    "\n",
    "\r\n"
   ]
  },
  {
   "cell_type": "markdown",
   "id": "0727c654-40c6-4296-a9c5-56a23bfe7b5e",
   "metadata": {},
   "source": [
    "## Examples of slicing"
   ]
  },
  {
   "cell_type": "code",
   "execution_count": 16,
   "id": "dc2320ab-8265-4503-9c6f-7f2735f8502c",
   "metadata": {},
   "outputs": [
    {
     "name": "stdout",
     "output_type": "stream",
     "text": [
      "Example 1: [(3+4j), (5+6j)]\n",
      "Example 2: [True, False]\n",
      "Example 3: ['apple', 'banana']\n",
      "Example 4: [20, 30, 40]\n",
      "Example 5: ['hello', 3.5]\n",
      "Example 6: [1.1, 3.3, 5.5]\n",
      "Example 7: [5, 4, 3, 2, 1]\n",
      "Example 8: []\n",
      "Example 9: [200, 300, 400]\n",
      "Example 10: [10, 30, 50]\n"
     ]
    }
   ],
   "source": [
    "\n",
    "\n",
    "# Example 1: Slicing with Complex Numbers\n",
    "list1 = [(1+2j), (3+4j), (5+6j)]\n",
    "print(\"Example 1:\", list1[1:])  \n",
    "\n",
    "# Example 2: Slicing with Booleans\n",
    "list2 = [True, False, True, False]\n",
    "print(\"Example 2:\", list2[2:])  \n",
    "\n",
    "# Example 3: Slicing with Strings\n",
    "list3 = [\"apple\", \"banana\", \"cherry\", \"date\"]\n",
    "print(\"Example 3:\", list3[:2]) \n",
    "\n",
    "# Example 4: Slicing with Integers\n",
    "list4 = [10, 20, 30, 40, 50]\n",
    "print(\"Example 4:\", list4[1:4])  \n",
    "\n",
    "# Example 5: Slicing with Mixed Types\n",
    "list5 = [1, \"hello\", 3.5, True]\n",
    "print(\"Example 5:\", list5[1:3])  \n",
    "\n",
    "# Example 6: Slicing with Float Numbers\n",
    "list6 = [1.1, 2.2, 3.3, 4.4, 5.5]\n",
    "print(\"Example 6:\", list6[::2])\n",
    "\n",
    "# Example 7: Reversing a List\n",
    "list7 = [1, 2, 3, 4, 5]\n",
    "print(\"Example 7:\", list7[::-1])\n",
    "\n",
    "# Example 8: Slicing with Empty Result\n",
    "list8 = [1, 2, 3, 4, 5]\n",
    "print(\"Example 8:\", list8[5:10])  \n",
    "\n",
    "# Example 9: Slicing with Negative Indices\n",
    "list9 = [100, 200, 300, 400, 500]\n",
    "print(\"Example 9:\", list9[-4:-1])  \n",
    "\n",
    "# Example 10: Slicing with Steps\n",
    "list10 = [10, 20, 30, 40, 50]\n",
    "print(\"Example 10:\", list10[::2]) \n"
   ]
  },
  {
   "cell_type": "markdown",
   "id": "c0a5c711-a241-444e-bc8d-56430e111234",
   "metadata": {},
   "source": [
    "# Creating list of 20 elements: (10 elements as positive index and other 10 as negative index)"
   ]
  },
  {
   "cell_type": "markdown",
   "id": "6fcb08ff-1c59-4c0f-b187-d59ba7519527",
   "metadata": {},
   "source": [
    "### 10 positive index elements"
   ]
  },
  {
   "cell_type": "code",
   "execution_count": 21,
   "id": "53c08f7f-5a91-42a5-81f5-fe8ac330f4f6",
   "metadata": {},
   "outputs": [
    {
     "name": "stdout",
     "output_type": "stream",
     "text": [
      "40\n",
      "39\n",
      "38\n",
      "37\n",
      "36\n",
      "35\n",
      "34\n",
      "33\n",
      "32\n",
      "31\n"
     ]
    }
   ],
   "source": [
    "numbers = [21, 22, 23, 24, 25, 26, 27, 28, 29, 30, 31, 32, 33, 34, 35, 36, 37, 38, 39, 40]\n",
    "\n",
    "print(numbers[19])\n",
    "print(numbers[18])\n",
    "print(numbers[17])\n",
    "print(numbers[16])\n",
    "print(numbers[15])\n",
    "print(numbers[14])\n",
    "print(numbers[13])\n",
    "print(numbers[12])\n",
    "print(numbers[11])\n",
    "print(numbers[10])\n",
    "\n"
   ]
  },
  {
   "cell_type": "markdown",
   "id": "96dca002-0bae-4a02-b9fd-b7313c886200",
   "metadata": {},
   "source": [
    "### 10 negative index elements"
   ]
  },
  {
   "cell_type": "code",
   "execution_count": 20,
   "id": "d2024c17-f6e0-4788-a4f9-942cc04d5ca5",
   "metadata": {},
   "outputs": [
    {
     "name": "stdout",
     "output_type": "stream",
     "text": [
      "20\n",
      "19\n",
      "18\n",
      "17\n",
      "16\n",
      "15\n",
      "14\n",
      "13\n",
      "12\n",
      "11\n"
     ]
    }
   ],
   "source": [
    "numbers = [1, 2, 3, 4, 5, 6, 7, 8, 9, 10, 11, 12, 13, 14, 15, 16, 17, 18, 19, 20]\n",
    "\n",
    "print(numbers[-1])  \n",
    "print(numbers[-2])  \n",
    "print(numbers[-3])  \n",
    "print(numbers[-4])  \n",
    "print(numbers[-5])  \n",
    "print(numbers[-6])\n",
    "print(numbers[-7])  \n",
    "print(numbers[-8]) \n",
    "print(numbers[-9])  \n",
    "print(numbers[-10]) \n"
   ]
  },
  {
   "cell_type": "markdown",
   "id": "1421bc51-2320-4a7c-aa09-ba971e171417",
   "metadata": {},
   "source": [
    "# List Operations\n",
    "\n",
    "List operations in Python allow you to manipulate and interact with lists in various ways.\n",
    "\n"
   ]
  },
  {
   "cell_type": "markdown",
   "id": "170df5f4-6c5f-4770-ad9c-9890b3fa5e1c",
   "metadata": {},
   "source": [
    "# Concatenation\n",
    "- Concatenation is the process of joining two or more lists to form a single list.\n",
    "-  Use the + operator to concatenate lists.\n",
    "-  Concatenation joins lists together.\n"
   ]
  },
  {
   "cell_type": "code",
   "execution_count": 22,
   "id": "e0e66a0c-46d1-4df2-a872-7e82039d9a18",
   "metadata": {},
   "outputs": [],
   "source": [
    "list1 = [1, 2, 3]\n",
    "list2 = [4, 5, 6]\n",
    "result = list1 + list2  # [1, 2, 3, 4, 5, 6]\n"
   ]
  },
  {
   "cell_type": "markdown",
   "id": "a9842d17-5387-4514-9076-ec7f6cfeb24e",
   "metadata": {},
   "source": [
    "## Examples:"
   ]
  },
  {
   "cell_type": "code",
   "execution_count": 24,
   "id": "d23ecbf7-64fc-42f0-9bf2-0e12a6db6cef",
   "metadata": {},
   "outputs": [
    {
     "name": "stdout",
     "output_type": "stream",
     "text": [
      "[100, 120, 130, 40, 15, 61]\n"
     ]
    }
   ],
   "source": [
    "a = [100, 120, 130]\n",
    "b = [40, 15, 61]\n",
    "c=print(a+b)"
   ]
  },
  {
   "cell_type": "code",
   "execution_count": 26,
   "id": "a51053d4-0349-4810-8b8c-6093c6245c8b",
   "metadata": {},
   "outputs": [
    {
     "name": "stdout",
     "output_type": "stream",
     "text": [
      "['apple', 1, True, 2, 'banana', False]\n",
      "[5, 6, 7, 8, 9, 10]\n",
      "['car', 'bike', 'bus', 'train']\n",
      "[0.1, 0.2, 0.3, 0.4, 0.5]\n",
      "['a', 'b', 'c', 'd']\n",
      "[True, False, False, True]\n",
      "[1, 2, 3, 'x', 'y', 'z']\n",
      "[100, 200, 300, 400, 500]\n",
      "['red', 'blue', 'green', 'yellow']\n",
      "[2.2, 3.3, 4.4, 5.5]\n",
      "['dog', 'cat', 'mouse', 'elephant']\n",
      "[7, 8, 9, 10, 11, 12]\n",
      "['pen', 'pencil', 'eraser', 'sharpener']\n",
      "['math', 'science', 'history', 'geography']\n",
      "['hammer', 'wrench', 'screwdriver', 'pliers']\n",
      "['USA', 'UK', 'Canada', 'Australia']\n",
      "['phone', 'tablet', 'laptop', 'smartwatch']\n",
      "['bread', 'butter', 'jam', 'cheese']\n",
      "['teamA', 'teamB', 'teamC', 'teamD']\n",
      "['reading', 'painting', 'gaming', 'dancing']\n"
     ]
    }
   ],
   "source": [
    "fruits = [\"apple\", 1, True]\n",
    "vegetables = [2, \"banana\", False]\n",
    "items = fruits + vegetables\n",
    "print(items)\n",
    "\n",
    "numbers1 = [5, 6, 7]\n",
    "numbers2 = [8, 9, 10]\n",
    "combined_numbers = numbers1 + numbers2\n",
    "print(combined_numbers)\n",
    "\n",
    "vehicles1 = [\"car\", \"bike\"]\n",
    "vehicles2 = [\"bus\", \"train\"]\n",
    "transport = vehicles1 + vehicles2\n",
    "print(transport)\n",
    "\n",
    "decimals1 = [0.1, 0.2, 0.3]\n",
    "decimals2 = [0.4, 0.5]\n",
    "decimal_result = decimals1 + decimals2\n",
    "print(decimal_result)\n",
    "\n",
    "letters1 = [\"a\", \"b\"]\n",
    "letters2 = [\"c\", \"d\"]\n",
    "alphabet = letters1 + letters2\n",
    "print(alphabet)\n",
    "\n",
    "booleans1 = [True, False]\n",
    "booleans2 = [False, True]\n",
    "truth_values = booleans1 + booleans2\n",
    "print(truth_values)\n",
    "\n",
    "data1 = [1, 2, 3]\n",
    "data2 = [\"x\", \"y\", \"z\"]\n",
    "mixed_data = data1 + data2\n",
    "print(mixed_data)\n",
    "\n",
    "prices1 = [100, 200, 300]\n",
    "prices2 = [400, 500]\n",
    "price_list = prices1 + prices2\n",
    "print(price_list)\n",
    "\n",
    "colors1 = [\"red\", \"blue\"]\n",
    "colors2 = [\"green\", \"yellow\"]\n",
    "color_palette = colors1 + colors2\n",
    "print(color_palette)\n",
    "\n",
    "weights1 = [2.2, 3.3]\n",
    "weights2 = [4.4, 5.5]\n",
    "weight_data = weights1 + weights2\n",
    "print(weight_data)\n",
    "\n",
    "pets1 = [\"dog\", \"cat\"]\n",
    "pets2 = [\"mouse\", \"elephant\"]\n",
    "animals = pets1 + pets2\n",
    "print(animals)\n",
    "\n",
    "digits1 = [7, 8, 9]\n",
    "digits2 = [10, 11, 12]\n",
    "digit_result = digits1 + digits2\n",
    "print(digit_result)\n",
    "\n",
    "stationery1 = [\"pen\", \"pencil\"]\n",
    "stationery2 = [\"eraser\", \"sharpener\"]\n",
    "school_supplies = stationery1 + stationery2\n",
    "print(school_supplies)\n",
    "\n",
    "courses1 = [\"math\", \"science\"]\n",
    "courses2 = [\"history\", \"geography\"]\n",
    "subject_list = courses1 + courses2\n",
    "print(subject_list)\n",
    "\n",
    "tools1 = [\"hammer\", \"wrench\"]\n",
    "tools2 = [\"screwdriver\", \"pliers\"]\n",
    "toolkit = tools1 + tools2\n",
    "print(toolkit)\n",
    "\n",
    "countries1 = [\"USA\", \"UK\"]\n",
    "countries2 = [\"Canada\", \"Australia\"]\n",
    "countries = countries1 + countries2\n",
    "print(countries)\n",
    "\n",
    "gadgets1 = [\"phone\", \"tablet\"]\n",
    "gadgets2 = [\"laptop\", \"smartwatch\"]\n",
    "devices = gadgets1 + gadgets2\n",
    "print(devices)\n",
    "\n",
    "food1 = [\"bread\", \"butter\"]\n",
    "food2 = [\"jam\", \"cheese\"]\n",
    "breakfast = food1 + food2\n",
    "print(breakfast)\n",
    "\n",
    "teams1 = [\"teamA\", \"teamB\"]\n",
    "teams2 = [\"teamC\", \"teamD\"]\n",
    "all_teams = teams1 + teams2\n",
    "print(all_teams)\n",
    "\n",
    "hobbies1 = [\"reading\", \"painting\"]\n",
    "hobbies2 = [\"gaming\", \"dancing\"]\n",
    "activities = hobbies1 + hobbies2\n",
    "print(activities)\n"
   ]
  },
  {
   "cell_type": "markdown",
   "id": "173fcf99-84ed-40de-9031-b2c4090dcf56",
   "metadata": {},
   "source": [
    "# Repetition\n",
    "- Repetition involves repeating the elements of a list a specified number of times.\n",
    "- Use the * operator to repeat the list.\n",
    "- Repetition duplicates the list's elements."
   ]
  },
  {
   "cell_type": "code",
   "execution_count": 27,
   "id": "1ac71bf7-5fc4-4824-877f-cb49f858325d",
   "metadata": {},
   "outputs": [],
   "source": [
    "list1 = [1, 2, 3]\n",
    "result = list1 * 3  # [1, 2, 3, 1, 2, 3, 1, 2, 3]\n"
   ]
  },
  {
   "cell_type": "markdown",
   "id": "56df987a-fa3d-462f-87f8-5183c0df6bc4",
   "metadata": {},
   "source": [
    "## Examples:"
   ]
  },
  {
   "cell_type": "code",
   "execution_count": 28,
   "id": "c9513128-15a9-426b-82e8-afea79043de4",
   "metadata": {},
   "outputs": [
    {
     "name": "stdout",
     "output_type": "stream",
     "text": [
      "[2, 56, 789, 34, 98, 2, 56, 789, 34, 98, 2, 56, 789, 34, 98]\n",
      "['a', 'b', 'c', 'd', 'e', 'a', 'b', 'c', 'd', 'e']\n",
      "[3, 7, 1, 9, 3, 7, 1, 9, 3, 7, 1, 9, 3, 7, 1, 9]\n",
      "[4, 'world', 2.71, False, 4, 'world', 2.71, False, 4, 'world', 2.71, False]\n",
      "[10, 20, 30, 10, 20, 30, 10, 20, 30, 10, 20, 30, 10, 20, 30]\n",
      "['red', 'green', 'blue', 'red', 'green', 'blue', 'red', 'green', 'blue', 'red', 'green', 'blue']\n",
      "[5, 10, 15, 5, 10, 15, 5, 10, 15, 5, 10, 15, 5, 10, 15, 5, 10, 15]\n",
      "['circle', 'square', 'triangle', 'circle', 'square', 'triangle']\n",
      "[6, 12, 18, 24, 6, 12, 18, 24, 6, 12, 18, 24]\n",
      "['dog', 'cat', 'rabbit', 'dog', 'cat', 'rabbit', 'dog', 'cat', 'rabbit', 'dog', 'cat', 'rabbit']\n"
     ]
    }
   ],
   "source": [
    "x = [2, 56, 789, 34, 98]\n",
    "result1 = x * 3\n",
    "print(result1)\n",
    "\n",
    "letters = [\"a\", \"b\", \"c\", \"d\", \"e\"]\n",
    "result2 = letters * 2\n",
    "print(result2)\n",
    "\n",
    "y = [3, 7, 1, 9]\n",
    "result3 = y * 4\n",
    "print(result3)\n",
    "\n",
    "mixed_list = [4, \"world\", 2.71, False]\n",
    "result4 = mixed_list * 3\n",
    "print(result4)\n",
    "\n",
    "z = [10, 20, 30]\n",
    "result5 = z * 5\n",
    "print(result5)\n",
    "\n",
    "colors = [\"red\", \"green\", \"blue\"]\n",
    "result6 = colors * 4\n",
    "print(result6)\n",
    "\n",
    "numbers = [5, 10, 15]\n",
    "result7 = numbers * 6\n",
    "print(result7)\n",
    "\n",
    "shapes = [\"circle\", \"square\", \"triangle\"]\n",
    "result8 = shapes * 2\n",
    "print(result8)\n",
    "\n",
    "n = [6, 12, 18, 24]\n",
    "result9 = n * 3\n",
    "print(result9)\n",
    "\n",
    "animals = [\"dog\", \"cat\", \"rabbit\"]\n",
    "result10 = animals * 4\n",
    "print(result10)\n"
   ]
  },
  {
   "cell_type": "code",
   "execution_count": 29,
   "id": "cad1e3bf-646c-4ffe-9ddd-95a22c17b266",
   "metadata": {},
   "outputs": [
    {
     "name": "stdout",
     "output_type": "stream",
     "text": [
      "[9, 3, 7, 9, 3, 7, 9, 3, 7]\n",
      "['orange', 'apple', 'grape', 'orange', 'apple', 'grape']\n",
      "['A', 'B', 'C', 'A', 'B', 'C', 'A', 'B', 'C', 'A', 'B', 'C']\n",
      "[100, 200, 300, 100, 200, 300, 100, 200, 300, 100, 200, 300, 100, 200, 300]\n",
      "[8, 16, 24, 32, 8, 16, 24, 32, 8, 16, 24, 32]\n",
      "['bike', 'scooter', 'bike', 'scooter']\n",
      "['happy', 'sad', 'happy', 'sad', 'happy', 'sad']\n",
      "[2, 4, 6, 8, 2, 4, 6, 8, 2, 4, 6, 8, 2, 4, 6, 8]\n",
      "['x', 'y', 'z', 'x', 'y', 'z', 'x', 'y', 'z', 'x', 'y', 'z', 'x', 'y', 'z']\n",
      "['rose', 'lily', 'rose', 'lily', 'rose', 'lily', 'rose', 'lily', 'rose', 'lily', 'rose', 'lily']\n"
     ]
    }
   ],
   "source": [
    "a = [9, 3, 7]\n",
    "result11 = a * 3\n",
    "print(result11)\n",
    "\n",
    "fruits = [\"orange\", \"apple\", \"grape\"]\n",
    "result12 = fruits * 2\n",
    "print(result12)\n",
    "\n",
    "grades = [\"A\", \"B\", \"C\"]\n",
    "result13 = grades * 4\n",
    "print(result13)\n",
    "\n",
    "prices = [100, 200, 300]\n",
    "result14 = prices * 5\n",
    "print(result14)\n",
    "\n",
    "b = [8, 16, 24, 32]\n",
    "result15 = b * 3\n",
    "print(result15)\n",
    "\n",
    "vehicles = [\"bike\", \"scooter\"]\n",
    "result16 = vehicles * 2\n",
    "print(result16)\n",
    "\n",
    "moods = [\"happy\", \"sad\"]\n",
    "result17 = moods * 3\n",
    "print(result17)\n",
    "\n",
    "digits = [2, 4, 6, 8]\n",
    "result18 = digits * 4\n",
    "print(result18)\n",
    "\n",
    "alphabets = [\"x\", \"y\", \"z\"]\n",
    "result19 = alphabets * 5\n",
    "print(result19)\n",
    "\n",
    "flowers = [\"rose\", \"lily\"]\n",
    "result20 = flowers * 6\n",
    "print(result20)\n"
   ]
  },
  {
   "cell_type": "code",
   "execution_count": null,
   "id": "450876d5-b816-4352-9427-4d187442f8e2",
   "metadata": {},
   "outputs": [],
   "source": []
  }
 ],
 "metadata": {
  "kernelspec": {
   "display_name": "Python 3 (ipykernel)",
   "language": "python",
   "name": "python3"
  },
  "language_info": {
   "codemirror_mode": {
    "name": "ipython",
    "version": 3
   },
   "file_extension": ".py",
   "mimetype": "text/x-python",
   "name": "python",
   "nbconvert_exporter": "python",
   "pygments_lexer": "ipython3",
   "version": "3.12.4"
  }
 },
 "nbformat": 4,
 "nbformat_minor": 5
}
